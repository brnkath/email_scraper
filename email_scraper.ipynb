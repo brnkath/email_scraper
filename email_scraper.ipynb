{
 "cells": [
  {
   "cell_type": "code",
   "execution_count": 1,
   "metadata": {},
   "outputs": [],
   "source": [
    "# Import dependencies\n",
    "from bs4 import BeautifulSoup\n",
    "import nltk\n",
    "from nltk.tokenize import word_tokenize\n",
    "import os\n",
    "import pandas as pd\n",
    "import string\n"
   ]
  },
  {
   "cell_type": "code",
   "execution_count": 2,
   "metadata": {},
   "outputs": [
    {
     "name": "stderr",
     "output_type": "stream",
     "text": [
      "[nltk_data] Downloading package punkt to\n",
      "[nltk_data]     C:\\Users\\brnka\\AppData\\Roaming\\nltk_data...\n",
      "[nltk_data]   Package punkt is already up-to-date!\n"
     ]
    },
    {
     "data": {
      "text/plain": [
       "True"
      ]
     },
     "execution_count": 2,
     "metadata": {},
     "output_type": "execute_result"
    }
   ],
   "source": [
    "# Download NLTK resources (if not already downloaded)\n",
    "nltk.download('punkt')\n"
   ]
  },
  {
   "cell_type": "code",
   "execution_count": 3,
   "metadata": {},
   "outputs": [],
   "source": [
    "# Creat a function to extract the words if the html file contains a body tag\n",
    "def extract_words_from_body(file_path):\n",
    "    with open(file_path, 'r', encoding='utf-8') as file:\n",
    "        html_content = file.read()\n",
    "\n",
    "        # Parse HTML using BeautifulSoup\n",
    "        soup = BeautifulSoup(html_content, 'html5lib')\n",
    "\n",
    "        # Check if <body> tag exists in the HTML content\n",
    "        body_content = soup.body\n",
    "        if body_content:\n",
    "            # Extract text from the body tag\n",
    "            body_text = body_content.get_text()\n",
    "        else:\n",
    "            # Skip processing for files without <body> tag\n",
    "            print(f\"No <body> tag found in {file_path}. Skipping...\")\n",
    "            return None\n",
    "\n",
    "        # Tokenize words using NLTK and filter out punctuation\n",
    "        words = word_tokenize(body_text)\n",
    "        words = [word for word in words if word.isalpha()]  # Exclude non-alphabetic tokens\n",
    "\n",
    "        return words\n"
   ]
  },
  {
   "cell_type": "code",
   "execution_count": 4,
   "metadata": {},
   "outputs": [],
   "source": [
    "# Replace 'path_to_html_files_directory' with the path to your HTML files directory\n",
    "directory = 'emails'\n"
   ]
  },
  {
   "cell_type": "code",
   "execution_count": 5,
   "metadata": {},
   "outputs": [],
   "source": [
    "# Create an empty dictionary to store word counts for each file\n",
    "word_count_dict = {}\n"
   ]
  },
  {
   "cell_type": "code",
   "execution_count": 6,
   "metadata": {},
   "outputs": [],
   "source": [
    "# Loop through HTML files in the directory\n",
    "for filename in os.listdir(directory):\n",
    "    if filename.endswith('.html'):\n",
    "        file_path = os.path.join(directory, filename)\n",
    "\n",
    "        # Extract words from the body of each HTML file and remove punctuation\n",
    "        words = extract_words_from_body(file_path)\n",
    "\n",
    "        # If words is None (indicating no <body> tag), skip to the next file\n",
    "        if words is None:\n",
    "            continue\n",
    "\n",
    "        # Count word occurrences for the current email\n",
    "        word_count = {}\n",
    "        for word in set(words):  # Use set to get unique words per email\n",
    "            word_count[word] = words.count(word)\n",
    "\n",
    "        # Store word counts for the current email in word_count_dict\n",
    "        word_count_dict[filename] = word_count\n",
    "\n"
   ]
  },
  {
   "cell_type": "code",
   "execution_count": 7,
   "metadata": {},
   "outputs": [],
   "source": [
    "# Create a DataFrame from word_count_dict\n",
    "df = pd.DataFrame.from_dict(word_count_dict, orient='index')\n",
    "df.fillna(0, inplace=True)  # Fill NaN values with 0\n",
    "\n"
   ]
  },
  {
   "cell_type": "code",
   "execution_count": 8,
   "metadata": {},
   "outputs": [],
   "source": [
    "# Add a 'Spam Indicator' column filled with zeros\n",
    "df['Spam Indicator'] = 0\n"
   ]
  },
  {
   "cell_type": "code",
   "execution_count": 9,
   "metadata": {},
   "outputs": [],
   "source": [
    "# Change 'Spam Indicator' column value to 1 if the filename ends with 'spam.html'\n",
    "df.loc[df.index.str.endswith('spam.html'), 'Spam Indicator'] = 1"
   ]
  },
  {
   "cell_type": "code",
   "execution_count": 10,
   "metadata": {},
   "outputs": [],
   "source": [
    "# List of specific words to omit (Words are case sensitive)\n",
    "words_to_omit = ['brian', 'Brian', 'brnkath', 'kabr0501']  # Add the words you want to omit here\n",
    "\n",
    "# Filter words that are less than or equal to 20 characters and not in the list of words to omit\n",
    "filtered_words = [word for word in df.columns[1:-1] if len(word) <= 20 and word not in words_to_omit]\n",
    "\n",
    "# Summing up the word counts across all emails for filtered words\n",
    "word_counts_total = df[filtered_words].sum(axis=0)\n",
    "\n",
    "# Sort the words based on their total counts in descending order and select the top 5000\n",
    "top_5000_words = word_counts_total.nlargest(5000).index\n",
    "\n",
    "# Filter the DataFrame to keep only the top 5000 columns and include the first and last columns\n",
    "df_top_5000 = df.iloc[:, [0] + [df.columns.get_loc(col) for col in top_5000_words] + [-1]]"
   ]
  },
  {
   "cell_type": "code",
   "execution_count": 11,
   "metadata": {},
   "outputs": [],
   "source": [
    "# Reset the index of the DataFrame to ascending numbers\n",
    "df_top_5000.reset_index(drop=True, inplace=True)\n",
    "\n",
    "# Set index to start at 1\n",
    "df_top_5000.index += 1\n",
    "\n",
    "# Convert columns to integer type\n",
    "df_top_5000 = df_top_5000.astype(int)"
   ]
  },
  {
   "cell_type": "code",
   "execution_count": 12,
   "metadata": {},
   "outputs": [
    {
     "data": {
      "text/plain": [
       "Index(['Discover', 'the', 'to', 'of', 'and', 'a', 'in', 'important', 'https',\n",
       "       'for',\n",
       "       ...\n",
       "       'Jonathan', 'ble', 'Version', 'yields', 'silver', 'wildfires',\n",
       "       'accredited', 'ther', 'mounting', 'Spam Indicator'],\n",
       "      dtype='object', length=5002)"
      ]
     },
     "execution_count": 12,
     "metadata": {},
     "output_type": "execute_result"
    }
   ],
   "source": [
    "df_top_5000.columns.unique()"
   ]
  },
  {
   "cell_type": "code",
   "execution_count": 13,
   "metadata": {},
   "outputs": [
    {
     "data": {
      "text/html": [
       "<div>\n",
       "<style scoped>\n",
       "    .dataframe tbody tr th:only-of-type {\n",
       "        vertical-align: middle;\n",
       "    }\n",
       "\n",
       "    .dataframe tbody tr th {\n",
       "        vertical-align: top;\n",
       "    }\n",
       "\n",
       "    .dataframe thead th {\n",
       "        text-align: right;\n",
       "    }\n",
       "</style>\n",
       "<table border=\"1\" class=\"dataframe\">\n",
       "  <thead>\n",
       "    <tr style=\"text-align: right;\">\n",
       "      <th></th>\n",
       "      <th>Discover</th>\n",
       "      <th>the</th>\n",
       "      <th>to</th>\n",
       "      <th>of</th>\n",
       "      <th>and</th>\n",
       "      <th>a</th>\n",
       "      <th>in</th>\n",
       "      <th>important</th>\n",
       "      <th>https</th>\n",
       "      <th>for</th>\n",
       "      <th>...</th>\n",
       "      <th>Jonathan</th>\n",
       "      <th>ble</th>\n",
       "      <th>Version</th>\n",
       "      <th>yields</th>\n",
       "      <th>silver</th>\n",
       "      <th>wildfires</th>\n",
       "      <th>accredited</th>\n",
       "      <th>ther</th>\n",
       "      <th>mounting</th>\n",
       "      <th>Spam Indicator</th>\n",
       "    </tr>\n",
       "  </thead>\n",
       "  <tbody>\n",
       "    <tr>\n",
       "      <th>1</th>\n",
       "      <td>2</td>\n",
       "      <td>30</td>\n",
       "      <td>25</td>\n",
       "      <td>23</td>\n",
       "      <td>29</td>\n",
       "      <td>16</td>\n",
       "      <td>13</td>\n",
       "      <td>0</td>\n",
       "      <td>0</td>\n",
       "      <td>9</td>\n",
       "      <td>...</td>\n",
       "      <td>0</td>\n",
       "      <td>0</td>\n",
       "      <td>0</td>\n",
       "      <td>0</td>\n",
       "      <td>0</td>\n",
       "      <td>0</td>\n",
       "      <td>0</td>\n",
       "      <td>0</td>\n",
       "      <td>0</td>\n",
       "      <td>1</td>\n",
       "    </tr>\n",
       "    <tr>\n",
       "      <th>2</th>\n",
       "      <td>2</td>\n",
       "      <td>30</td>\n",
       "      <td>27</td>\n",
       "      <td>23</td>\n",
       "      <td>24</td>\n",
       "      <td>23</td>\n",
       "      <td>14</td>\n",
       "      <td>33</td>\n",
       "      <td>0</td>\n",
       "      <td>15</td>\n",
       "      <td>...</td>\n",
       "      <td>0</td>\n",
       "      <td>0</td>\n",
       "      <td>0</td>\n",
       "      <td>0</td>\n",
       "      <td>0</td>\n",
       "      <td>0</td>\n",
       "      <td>0</td>\n",
       "      <td>0</td>\n",
       "      <td>0</td>\n",
       "      <td>1</td>\n",
       "    </tr>\n",
       "    <tr>\n",
       "      <th>3</th>\n",
       "      <td>2</td>\n",
       "      <td>24</td>\n",
       "      <td>19</td>\n",
       "      <td>21</td>\n",
       "      <td>18</td>\n",
       "      <td>13</td>\n",
       "      <td>10</td>\n",
       "      <td>0</td>\n",
       "      <td>0</td>\n",
       "      <td>8</td>\n",
       "      <td>...</td>\n",
       "      <td>0</td>\n",
       "      <td>0</td>\n",
       "      <td>0</td>\n",
       "      <td>0</td>\n",
       "      <td>0</td>\n",
       "      <td>0</td>\n",
       "      <td>0</td>\n",
       "      <td>0</td>\n",
       "      <td>0</td>\n",
       "      <td>1</td>\n",
       "    </tr>\n",
       "    <tr>\n",
       "      <th>4</th>\n",
       "      <td>3</td>\n",
       "      <td>26</td>\n",
       "      <td>22</td>\n",
       "      <td>25</td>\n",
       "      <td>22</td>\n",
       "      <td>16</td>\n",
       "      <td>14</td>\n",
       "      <td>0</td>\n",
       "      <td>0</td>\n",
       "      <td>8</td>\n",
       "      <td>...</td>\n",
       "      <td>0</td>\n",
       "      <td>0</td>\n",
       "      <td>0</td>\n",
       "      <td>0</td>\n",
       "      <td>0</td>\n",
       "      <td>0</td>\n",
       "      <td>0</td>\n",
       "      <td>0</td>\n",
       "      <td>0</td>\n",
       "      <td>1</td>\n",
       "    </tr>\n",
       "    <tr>\n",
       "      <th>5</th>\n",
       "      <td>1</td>\n",
       "      <td>91</td>\n",
       "      <td>57</td>\n",
       "      <td>65</td>\n",
       "      <td>70</td>\n",
       "      <td>40</td>\n",
       "      <td>39</td>\n",
       "      <td>50</td>\n",
       "      <td>39</td>\n",
       "      <td>25</td>\n",
       "      <td>...</td>\n",
       "      <td>0</td>\n",
       "      <td>0</td>\n",
       "      <td>0</td>\n",
       "      <td>2</td>\n",
       "      <td>0</td>\n",
       "      <td>0</td>\n",
       "      <td>0</td>\n",
       "      <td>0</td>\n",
       "      <td>0</td>\n",
       "      <td>0</td>\n",
       "    </tr>\n",
       "  </tbody>\n",
       "</table>\n",
       "<p>5 rows × 5002 columns</p>\n",
       "</div>"
      ],
      "text/plain": [
       "   Discover  the  to  of  and   a  in  important  https  for  ...  Jonathan  \\\n",
       "1         2   30  25  23   29  16  13          0      0    9  ...         0   \n",
       "2         2   30  27  23   24  23  14         33      0   15  ...         0   \n",
       "3         2   24  19  21   18  13  10          0      0    8  ...         0   \n",
       "4         3   26  22  25   22  16  14          0      0    8  ...         0   \n",
       "5         1   91  57  65   70  40  39         50     39   25  ...         0   \n",
       "\n",
       "   ble  Version  yields  silver  wildfires  accredited  ther  mounting  \\\n",
       "1    0        0       0       0          0           0     0         0   \n",
       "2    0        0       0       0          0           0     0         0   \n",
       "3    0        0       0       0          0           0     0         0   \n",
       "4    0        0       0       0          0           0     0         0   \n",
       "5    0        0       2       0          0           0     0         0   \n",
       "\n",
       "   Spam Indicator  \n",
       "1               1  \n",
       "2               1  \n",
       "3               1  \n",
       "4               1  \n",
       "5               0  \n",
       "\n",
       "[5 rows x 5002 columns]"
      ]
     },
     "execution_count": 13,
     "metadata": {},
     "output_type": "execute_result"
    }
   ],
   "source": [
    "# Display the DataFrame\n",
    "df_top_5000.head()"
   ]
  },
  {
   "cell_type": "code",
   "execution_count": 14,
   "metadata": {},
   "outputs": [
    {
     "name": "stdout",
     "output_type": "stream",
     "text": [
      "DataFrame saved to outputs\\emails_df.csv\n"
     ]
    }
   ],
   "source": [
    "# Save the DataFrame to a CSV file in the 'outputs' directory\n",
    "output_directory = 'outputs'\n",
    "if not os.path.exists(output_directory):\n",
    "    os.makedirs(output_directory)\n",
    "\n",
    "output_file_path = os.path.join(output_directory, 'emails_df.csv')\n",
    "df_top_5000.to_csv(output_file_path, index=False)\n",
    "\n",
    "print(f\"DataFrame saved to {output_file_path}\")"
   ]
  }
 ],
 "metadata": {
  "kernelspec": {
   "display_name": "dev",
   "language": "python",
   "name": "python3"
  },
  "language_info": {
   "codemirror_mode": {
    "name": "ipython",
    "version": 3
   },
   "file_extension": ".py",
   "mimetype": "text/x-python",
   "name": "python",
   "nbconvert_exporter": "python",
   "pygments_lexer": "ipython3",
   "version": "3.10.13"
  }
 },
 "nbformat": 4,
 "nbformat_minor": 2
}
