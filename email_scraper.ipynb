{
 "cells": [
  {
   "cell_type": "code",
   "execution_count": null,
   "metadata": {},
   "outputs": [],
   "source": [
    "# Import dependencies\n",
    "from bs4 import BeautifulSoup\n",
    "import nltk\n",
    "from nltk.tokenize import word_tokenize\n",
    "import os\n",
    "import pandas as pd\n",
    "import string\n"
   ]
  },
  {
   "cell_type": "code",
   "execution_count": null,
   "metadata": {},
   "outputs": [],
   "source": [
    "# Download NLTK resources (if not already downloaded)\n",
    "nltk.download('punkt')\n"
   ]
  },
  {
   "cell_type": "code",
   "execution_count": null,
   "metadata": {},
   "outputs": [],
   "source": [
    "# Creat a function to extract the words if the html file contains a body tag\n",
    "def extract_words_from_body(file_path):\n",
    "    with open(file_path, 'r', encoding='utf-8') as file:\n",
    "        html_content = file.read()\n",
    "\n",
    "        # Parse HTML using BeautifulSoup\n",
    "        soup = BeautifulSoup(html_content, 'html5lib')\n",
    "\n",
    "        # Check if <body> tag exists in the HTML content\n",
    "        body_content = soup.body\n",
    "        if body_content:\n",
    "            # Extract text from the body tag\n",
    "            body_text = body_content.get_text()\n",
    "        else:\n",
    "            # Skip processing for files without <body> tag\n",
    "            print(f\"No <body> tag found in {file_path}. Skipping...\")\n",
    "            return None\n",
    "\n",
    "        # Tokenize words using NLTK and filter out punctuation\n",
    "        words = word_tokenize(body_text)\n",
    "        words = [word for word in words if word.isalpha()]  # Exclude non-alphabetic tokens\n",
    "\n",
    "        return words\n"
   ]
  },
  {
   "cell_type": "code",
   "execution_count": null,
   "metadata": {},
   "outputs": [],
   "source": [
    "# Replace 'path_to_html_files_directory' with the path to your HTML files directory\n",
    "directory = 'emails'\n"
   ]
  },
  {
   "cell_type": "code",
   "execution_count": null,
   "metadata": {},
   "outputs": [],
   "source": [
    "# Create an empty dictionary to store word counts for each file\n",
    "word_count_dict = {}\n"
   ]
  },
  {
   "cell_type": "code",
   "execution_count": null,
   "metadata": {},
   "outputs": [],
   "source": [
    "# Loop through HTML files in the directory\n",
    "for filename in os.listdir(directory):\n",
    "    if filename.endswith('.html'):\n",
    "        file_path = os.path.join(directory, filename)\n",
    "\n",
    "        # Extract words from the body of each HTML file and remove punctuation\n",
    "        words = extract_words_from_body(file_path)\n",
    "\n",
    "        # If words is None (indicating no <body> tag), skip to the next file\n",
    "        if words is None:\n",
    "            continue\n",
    "\n",
    "        # Count word occurrences for the current email\n",
    "        word_count = {}\n",
    "        for word in set(words):  # Use set to get unique words per email\n",
    "            word_count[word] = words.count(word)\n",
    "\n",
    "        # Store word counts for the current email in word_count_dict\n",
    "        word_count_dict[filename] = word_count\n",
    "\n"
   ]
  },
  {
   "cell_type": "code",
   "execution_count": null,
   "metadata": {},
   "outputs": [],
   "source": [
    "# Create a DataFrame from word_count_dict\n",
    "df = pd.DataFrame.from_dict(word_count_dict, orient='index')\n",
    "df.fillna(0, inplace=True)  # Fill NaN values with 0\n",
    "\n"
   ]
  },
  {
   "cell_type": "code",
   "execution_count": null,
   "metadata": {},
   "outputs": [],
   "source": [
    "# Add a 'Spam Indicator' column filled with zeros\n",
    "df['Spam Indicator'] = 0\n"
   ]
  },
  {
   "cell_type": "code",
   "execution_count": null,
   "metadata": {},
   "outputs": [],
   "source": [
    "# Change 'Spam Indicator' column value to 1 if the filename starts with 'spam'\n",
    "df.loc[df.index.str.endswith('spam.html'), 'Spam Indicator'] = 1"
   ]
  },
  {
   "cell_type": "code",
   "execution_count": null,
   "metadata": {},
   "outputs": [],
   "source": [
    "# Filter words that are less than or equal to 20 characters\n",
    "filtered_words = [word for word in df.columns[1:-1] if len(word) <= 20]\n",
    "\n",
    "# Summing up the word counts across all emails for filtered words\n",
    "word_counts_total = df[filtered_words].sum(axis=0)\n",
    "\n",
    "# Sort the words based on their total counts in descending order and select the top 5000\n",
    "top_5000_words = word_counts_total.nlargest(5000).index\n",
    "\n",
    "# Filter the DataFrame to keep only the top 5000 columns and include the first and last columns\n",
    "df_top_5000 = df.iloc[:, [0] + [df.columns.get_loc(col) for col in top_5000_words] + [-1]]"
   ]
  },
  {
   "cell_type": "code",
   "execution_count": null,
   "metadata": {},
   "outputs": [],
   "source": [
    "# Convert columns to integer type\n",
    "df_top_5000 = df_top_5000.astype(int)"
   ]
  },
  {
   "cell_type": "code",
   "execution_count": null,
   "metadata": {},
   "outputs": [],
   "source": [
    "df_top_5000.columns.unique()"
   ]
  },
  {
   "cell_type": "code",
   "execution_count": null,
   "metadata": {},
   "outputs": [],
   "source": [
    "# Display the DataFrame\n",
    "df_top_5000.head()"
   ]
  },
  {
   "cell_type": "code",
   "execution_count": null,
   "metadata": {},
   "outputs": [],
   "source": [
    "# Save the DataFrame to a CSV file in the 'outputs' directory\n",
    "output_directory = 'outputs'\n",
    "if not os.path.exists(output_directory):\n",
    "    os.makedirs(output_directory)\n",
    "\n",
    "output_file_path = os.path.join(output_directory, 'emails_df.csv')\n",
    "df_top_5000.to_csv(output_file_path)\n",
    "\n",
    "print(f\"DataFrame saved to {output_file_path}\")"
   ]
  }
 ],
 "metadata": {
  "kernelspec": {
   "display_name": "dev",
   "language": "python",
   "name": "python3"
  },
  "language_info": {
   "codemirror_mode": {
    "name": "ipython",
    "version": 3
   },
   "file_extension": ".py",
   "mimetype": "text/x-python",
   "name": "python",
   "nbconvert_exporter": "python",
   "pygments_lexer": "ipython3",
   "version": "3.10.13"
  }
 },
 "nbformat": 4,
 "nbformat_minor": 2
}
